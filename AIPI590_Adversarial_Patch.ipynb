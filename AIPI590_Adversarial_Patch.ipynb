{
  "cells": [
    {
      "cell_type": "markdown",
      "metadata": {
        "id": "view-in-github",
        "colab_type": "text"
      },
      "source": [
        "<a href=\"https://colab.research.google.com/github/Talos6/AIPI590-Adversarial-Patch/blob/main/AIPI590_Adversarial_Patch.ipynb\" target=\"_parent\"><img src=\"https://colab.research.google.com/assets/colab-badge.svg\" alt=\"Open In Colab\"/></a>"
      ]
    },
    {
      "cell_type": "markdown",
      "metadata": {
        "id": "Kd22xLPAYNHl"
      },
      "source": [
        "#AIPI 590 XAI Adversarial Patch"
      ]
    },
    {
      "cell_type": "code",
      "execution_count": null,
      "metadata": {
        "id": "_oI_cSnkYNHo"
      },
      "outputs": [],
      "source": [
        "## Standard libraries\n",
        "import os\n",
        "import json\n",
        "import math\n",
        "import time\n",
        "import numpy as np\n",
        "import scipy.linalg\n",
        "\n",
        "## Progress bar\n",
        "from tqdm.notebook import tqdm\n",
        "\n",
        "## PyTorch\n",
        "import torch\n",
        "import torch.nn as nn\n",
        "import torch.nn.functional as F\n",
        "import torch.utils.data as data\n",
        "import torch.optim as optim\n",
        "# Torchvision\n",
        "import torchvision\n",
        "from torchvision.datasets import CIFAR10\n",
        "from torchvision import transforms\n",
        "\n",
        "# Use GPU if possible\n",
        "device = torch.device(\"cpu\") if not torch.cuda.is_available() else torch.device(\"cuda:0\")\n",
        "print(\"Using device\", device)\n",
        "\n",
        "# Root Folder\n",
        "ROOT = os.path.dirname(os.path.abspath(__file__))\n",
        "DATA_PATH = os.path.join(ROOT, \"data\")\n",
        "MODEL_PATH = os.path.join(ROOT, \"model\")"
      ]
    },
    {
      "cell_type": "code",
      "source": [
        "## Download the small image dataset for training\n",
        "import urllib.request\n",
        "from urllib.error import HTTPError\n",
        "import zipfile\n",
        "base_url = \"https://raw.githubusercontent.com/phlippe/saved_models/main/tutorial10/\"\n",
        "os.makedirs(DATA_PATH, exist_ok=True)\n",
        "\n",
        "file_path = os.path.join(DATA_PATH, \"TinyImageNet.zip\")\n",
        "if not os.path.isfile(file_path):\n",
        "    file_url = base_url + \"TinyImageNet.zip\"\n",
        "    try:\n",
        "        urllib.request.urlretrieve(file_url, file_path)\n",
        "    except HTTPError as e:\n",
        "        print(\"Error downloading data\", e)\n",
        "with zipfile.ZipFile(file_path, 'r') as zip_ref:\n",
        "    zip_ref.extractall(file_path.rsplit(\"/\",1)[0])\n",
        ""
      ],
      "metadata": {
        "id": "X6iW-KCe8_8w"
      },
      "execution_count": null,
      "outputs": []
    },
    {
      "cell_type": "code",
      "execution_count": null,
      "metadata": {
        "id": "Vf3qqH_GYNHp"
      },
      "outputs": [],
      "source": [
        "# Load CNN architecture pretrained on ImageNet\n",
        "pretrained_model = torchvision.models.resnet34(weights='IMAGENET1K_V1')\n",
        "pretrained_model = pretrained_model.to(device)\n",
        "\n",
        "pretrained_model.eval()\n",
        "for p in pretrained_model.parameters():\n",
        "    p.requires_grad = False"
      ]
    },
    {
      "cell_type": "code",
      "execution_count": 4,
      "metadata": {
        "id": "hEi07rWrYNHp"
      },
      "outputs": [],
      "source": [
        "# Mean and Std from ImageNet\n",
        "NORM_MEAN = np.array([0.485, 0.456, 0.406])\n",
        "NORM_STD = np.array([0.229, 0.224, 0.225])\n",
        "\n",
        "# Image tensor\n",
        "image_transforms = transforms.Compose([\n",
        "    transforms.ToTensor(),\n",
        "    transforms.Normalize(mean=NORM_MEAN,\n",
        "                         std=NORM_STD)\n",
        "])\n",
        "\n",
        "# Load dataset\n",
        "dataset = torchvision.datasets.ImageFolder(root=os.path.join(DATA_PATH, \"TinyImageNet\"),\n",
        "                                           transform=image_transforms)\n",
        "\n",
        "# Load label\n",
        "with open(os.path.join(DATA_PATH, \"imagenet_class_index.json\"), \"r\") as f:\n",
        "    label_names = json.load(f)"
      ]
    },
    {
      "cell_type": "code",
      "execution_count": 62,
      "metadata": {
        "id": "UvwleSMOYNHr"
      },
      "outputs": [],
      "source": [
        "## Apply patch to image (each will add two patches with 32 x 32 inches)\n",
        "TENSOR_MEANS, TENSOR_STD = torch.FloatTensor(NORM_MEAN)[:,None,None], torch.FloatTensor(NORM_STD)[:,None,None]\n",
        "def apply_patch(img, patch, num_patch=2):\n",
        "    patch = (torch.tanh(patch) + 1 - 2 * TENSOR_MEANS) / (2 * TENSOR_STD)\n",
        "    for i in range(img.shape[0]):\n",
        "        for _ in range(num_patch):\n",
        "          h_offset = np.random.randint(0,img.shape[2]-patch.shape[1]-1)\n",
        "          w_offset = np.random.randint(0,img.shape[3]-patch.shape[2]-1)\n",
        "          img[i,:,h_offset:h_offset+patch.shape[1],w_offset:w_offset+patch.shape[2]] = patch\n",
        "    return img"
      ]
    },
    {
      "cell_type": "code",
      "execution_count": 54,
      "metadata": {
        "id": "JuVe11iTYNHr"
      },
      "outputs": [],
      "source": [
        "## Train patch towards the target label\n",
        "def train_patch(model, target_class, num_epochs=5):\n",
        "    train_loader = data.DataLoader(dataset, batch_size=32, shuffle=True, drop_last=True, num_workers=8)\n",
        "\n",
        "    patch = nn.Parameter(torch.zeros(3, 32, 32), requires_grad=True)\n",
        "    optimizer = torch.optim.SGD([patch], lr=1e-1, momentum=0.8)\n",
        "    loss_module = nn.CrossEntropyLoss()\n",
        "\n",
        "    # Training loop\n",
        "    for epoch in range(num_epochs):\n",
        "        t = tqdm(train_loader, leave=False)\n",
        "        for img, _ in t:\n",
        "            img = apply_patch(img, patch)\n",
        "            img = img.to(device)\n",
        "            pred = model(img)\n",
        "            labels = torch.zeros(img.shape[0], device=pred.device, dtype=torch.long).fill_(target_class)\n",
        "            loss = loss_module(pred, labels)\n",
        "            optimizer.zero_grad()\n",
        "            loss.mean().backward()\n",
        "            optimizer.step()\n",
        "            t.set_description(f\"Epoch {epoch}, Loss: {loss.item():4.2f}\")\n",
        "\n",
        "    return patch.data"
      ]
    },
    {
      "cell_type": "code",
      "execution_count": 43,
      "metadata": {
        "id": "vPVkweQ3YNHs"
      },
      "outputs": [],
      "source": [
        "# Get patch from pre-trained record or retrain a new one.\n",
        "def get_patch(class_name):\n",
        "    c = label_names.index(class_name)\n",
        "    file_name = os.path.join(MODEL_PATH, f\"{class_name}_patch.pt\")\n",
        "    if not os.path.isfile(file_name):\n",
        "        patch = train_patch(pretrained_model, c)\n",
        "        torch.save(patch, file_name)\n",
        "    else:\n",
        "        patch = torch.load(file_name)\n",
        "    return patch"
      ]
    },
    {
      "cell_type": "code",
      "execution_count": null,
      "metadata": {
        "id": "Gu4sXVKQYNHs"
      },
      "outputs": [],
      "source": [
        "# This is the actual patch used.\n",
        "patch = get_patch('flamingo')"
      ]
    },
    {
      "cell_type": "markdown",
      "source": [
        "### References\n",
        "\n",
        "**Duke AI XAI adversarial-ai-example-notebooks:**\n",
        "\n",
        "https://github.com/AIPI-590-XAI/Duke-AI-XAI/blob/main/adversarial-ai-example-notebooks/adversarial_attacks.ipynb"
      ],
      "metadata": {
        "id": "4HCkQ7T9Ak0j"
      }
    }
  ],
  "metadata": {
    "kernelspec": {
      "display_name": "Python 3",
      "name": "python3"
    },
    "language_info": {
      "codemirror_mode": {
        "name": "ipython",
        "version": 3
      },
      "file_extension": ".py",
      "mimetype": "text/x-python",
      "name": "python",
      "nbconvert_exporter": "python",
      "pygments_lexer": "ipython3",
      "version": "3.8.2"
    },
    "colab": {
      "provenance": [],
      "toc_visible": true,
      "machine_shape": "hm",
      "gpuType": "A100",
      "include_colab_link": true
    },
    "accelerator": "GPU"
  },
  "nbformat": 4,
  "nbformat_minor": 0
}